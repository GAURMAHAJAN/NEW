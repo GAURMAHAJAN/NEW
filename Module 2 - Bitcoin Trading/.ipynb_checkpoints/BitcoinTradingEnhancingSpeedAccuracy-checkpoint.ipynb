{
 "cells": [
  {
   "cell_type": "markdown",
   "metadata": {
    "_cell_guid": "83708667-4fdc-1563-7b3a-06b6575d2865"
   },
   "source": [
    "\n",
    "\n",
    "# Dimensionality Reduction-Bitcoin Price Prediction Problem\n",
    "\n",
    "In this case study, we will use the dimensionality reduction approach to enhance the\n",
    "“bitcoin trading strategy” related case study discussed in Chapter 6. \n",
    "\n"
   ]
  },
  {
   "cell_type": "markdown",
   "metadata": {},
   "source": [
    "## Content"
   ]
  },
  {
   "cell_type": "markdown",
   "metadata": {},
   "source": [
    "* [1. Problem Definition](#0)\n",
    "* [2. Getting Started - Load Libraries and Dataset](#1)\n",
    "    * [2.1. Load Libraries](#1.1)    \n",
    "    * [2.2. Load Dataset](#1.2)\n",
    "* [3. Exploratory Data Analysis](#2)\n",
    "    * [3.1 Descriptive Statistics](#2.1) \n",
    "* [4. Data Preparation](#3)\n",
    "    * [4.1 Data Cleaning](#3.1)\n",
    "    * [4.2. Preparing classification data](#3.2)\n",
    "    * [4.3. Feature Engineering-Constructing Technical Indicators](#3.3)\n",
    "    * [4.4.Data Visualisation](#3.4)\n",
    "* [5.Evaluate Algorithms and Models](#4)        \n",
    "    * [5.1. Train/Test Split](#4.1)\n",
    "    * [5.2. Singular Value Decomposition-(Feature Reduction)](#4.2)\n",
    "    * [5.3. t-SNE visualization](#4.3) \n",
    "    * [5.3. Compare Models-with and without dimensionality Reduction](#4.4) \n"
   ]
  },
  {
   "cell_type": "markdown",
   "metadata": {},
   "source": [
    "<a id='0'></a>\n",
    "# 1. Problem Definition"
   ]
  },
  {
   "cell_type": "markdown",
   "metadata": {},
   "source": [
    "In this case study, we will use the dimensionality reduction approach to enhance the\n",
    "“bitcoin trading strategy” related case study discussed in Chapter 6. \n",
    "\n",
    "The data and the variables used in this case study are same as the case study presented in the classification case study chapter. The data is the bitcoin data for the time\n",
    "period of Jan 2012 to October 2017, with minute to minute updates of OHLC (Open,\n",
    "High, Low, Close), Volume in BTC and indicated currency and weighted bitcoin\n",
    "price"
   ]
  },
  {
   "cell_type": "markdown",
   "metadata": {},
   "source": [
    "<a id='1'></a>\n",
    "# 2. Getting Started- Loading the data and python packages"
   ]
  },
  {
   "cell_type": "markdown",
   "metadata": {},
   "source": [
    "<a id='1.1'></a>\n",
    "## 2.1. Loading the python packages"
   ]
  },
  {
   "cell_type": "code",
   "execution_count": 44,
   "metadata": {
    "_cell_guid": "5d8fee34-f454-2642-8b06-ed719f0317e1"
   },
   "outputs": [],
   "source": [
    "# Load libraries\n",
    "import numpy as np\n",
    "import pandas as pd\n",
    "import matplotlib.pyplot as plt\n",
    "from pandas import read_csv, set_option\n",
    "from pandas.plotting import scatter_matrix\n",
    "import seaborn as sns\n",
    "from sklearn.preprocessing import StandardScaler\n",
    "from sklearn.model_selection import train_test_split, KFold, cross_val_score\n",
    "from sklearn.ensemble import GradientBoostingClassifier, RandomForestClassifier\n",
    "\n",
    "from mpl_toolkits.mplot3d import Axes3D\n",
    "\n",
    "import re\n",
    "from collections import OrderedDict\n",
    "from time import time\n",
    "import sqlite3       \n",
    "\n",
    "from scipy.linalg import svd   \n",
    "from scipy import stats\n",
    "from sklearn.decomposition import TruncatedSVD\n",
    "from sklearn.manifold import TSNE\n",
    "\n",
    "import warnings\n",
    "warnings.filterwarnings('ignore')\n",
    "\n",
    "from IPython.html.widgets import interactive, fixed"
   ]
  },
  {
   "cell_type": "markdown",
   "metadata": {},
   "source": [
    "<a id='1.2'></a>\n",
    "## 2.2. Loading the Data"
   ]
  },
  {
   "cell_type": "code",
   "execution_count": 11,
   "metadata": {},
   "outputs": [],
   "source": [
    "dataset = pd.read_csv(r'../../Module7- Classification Models/CaseStudy3 - Bitcoin Trading Strategy/BitstampData_sample.csv')"
   ]
  },
  {
   "cell_type": "code",
   "execution_count": 12,
   "metadata": {},
   "outputs": [],
   "source": [
    "#Diable the warnings\n",
    "import warnings\n",
    "warnings.filterwarnings('ignore')"
   ]
  },
  {
   "cell_type": "markdown",
   "metadata": {
    "_cell_guid": "df6a4523-b385-69ee-c933-592826d81431"
   },
   "source": [
    "<a id='2'></a>\n",
    "# 3. Exploratory Data Analysis"
   ]
  },
  {
   "cell_type": "markdown",
   "metadata": {},
   "source": [
    "<a id='2.1'></a>\n",
    "## 3.1. Descriptive Statistics"
   ]
  },
  {
   "cell_type": "code",
   "execution_count": 13,
   "metadata": {
    "_cell_guid": "52f85dc2-0f91-3c50-400e-ddc38bea966b"
   },
   "outputs": [
    {
     "data": {
      "text/plain": [
       "(499999, 8)"
      ]
     },
     "execution_count": 13,
     "metadata": {},
     "output_type": "execute_result"
    }
   ],
   "source": [
    "# shape\n",
    "dataset.shape"
   ]
  },
  {
   "cell_type": "code",
   "execution_count": 14,
   "metadata": {},
   "outputs": [
    {
     "data": {
      "text/html": [
       "<div>\n",
       "<style scoped>\n",
       "    .dataframe tbody tr th:only-of-type {\n",
       "        vertical-align: middle;\n",
       "    }\n",
       "\n",
       "    .dataframe tbody tr th {\n",
       "        vertical-align: top;\n",
       "    }\n",
       "\n",
       "    .dataframe thead th {\n",
       "        text-align: right;\n",
       "    }\n",
       "</style>\n",
       "<table border=\"1\" class=\"dataframe\">\n",
       "  <thead>\n",
       "    <tr style=\"text-align: right;\">\n",
       "      <th></th>\n",
       "      <th>Timestamp</th>\n",
       "      <th>Open</th>\n",
       "      <th>High</th>\n",
       "      <th>Low</th>\n",
       "      <th>Close</th>\n",
       "      <th>Volume_(BTC)</th>\n",
       "      <th>Volume_(Currency)</th>\n",
       "      <th>Weighted_Price</th>\n",
       "    </tr>\n",
       "  </thead>\n",
       "  <tbody>\n",
       "    <tr>\n",
       "      <th>499994</th>\n",
       "      <td>1355317560</td>\n",
       "      <td>NaN</td>\n",
       "      <td>NaN</td>\n",
       "      <td>NaN</td>\n",
       "      <td>NaN</td>\n",
       "      <td>NaN</td>\n",
       "      <td>NaN</td>\n",
       "      <td>NaN</td>\n",
       "    </tr>\n",
       "    <tr>\n",
       "      <th>499995</th>\n",
       "      <td>1355317620</td>\n",
       "      <td>NaN</td>\n",
       "      <td>NaN</td>\n",
       "      <td>NaN</td>\n",
       "      <td>NaN</td>\n",
       "      <td>NaN</td>\n",
       "      <td>NaN</td>\n",
       "      <td>NaN</td>\n",
       "    </tr>\n",
       "    <tr>\n",
       "      <th>499996</th>\n",
       "      <td>1355317680</td>\n",
       "      <td>NaN</td>\n",
       "      <td>NaN</td>\n",
       "      <td>NaN</td>\n",
       "      <td>NaN</td>\n",
       "      <td>NaN</td>\n",
       "      <td>NaN</td>\n",
       "      <td>NaN</td>\n",
       "    </tr>\n",
       "    <tr>\n",
       "      <th>499997</th>\n",
       "      <td>1355317740</td>\n",
       "      <td>NaN</td>\n",
       "      <td>NaN</td>\n",
       "      <td>NaN</td>\n",
       "      <td>NaN</td>\n",
       "      <td>NaN</td>\n",
       "      <td>NaN</td>\n",
       "      <td>NaN</td>\n",
       "    </tr>\n",
       "    <tr>\n",
       "      <th>499998</th>\n",
       "      <td>1355317800</td>\n",
       "      <td>NaN</td>\n",
       "      <td>NaN</td>\n",
       "      <td>NaN</td>\n",
       "      <td>NaN</td>\n",
       "      <td>NaN</td>\n",
       "      <td>NaN</td>\n",
       "      <td>NaN</td>\n",
       "    </tr>\n",
       "  </tbody>\n",
       "</table>\n",
       "</div>"
      ],
      "text/plain": [
       "         Timestamp  Open  High  Low  Close  Volume_(BTC)  Volume_(Currency)  Weighted_Price\n",
       "499994  1355317560   NaN   NaN  NaN    NaN           NaN                NaN             NaN\n",
       "499995  1355317620   NaN   NaN  NaN    NaN           NaN                NaN             NaN\n",
       "499996  1355317680   NaN   NaN  NaN    NaN           NaN                NaN             NaN\n",
       "499997  1355317740   NaN   NaN  NaN    NaN           NaN                NaN             NaN\n",
       "499998  1355317800   NaN   NaN  NaN    NaN           NaN                NaN             NaN"
      ]
     },
     "execution_count": 14,
     "metadata": {},
     "output_type": "execute_result"
    }
   ],
   "source": [
    "# peek at data\n",
    "set_option('display.width', 100)\n",
    "dataset.tail(5)"
   ]
  },
  {
   "cell_type": "code",
   "execution_count": 15,
   "metadata": {
    "_cell_guid": "7bffeec0-5bbc-fffb-18f2-3da56b862ca3"
   },
   "outputs": [
    {
     "data": {
      "text/html": [
       "<div>\n",
       "<style scoped>\n",
       "    .dataframe tbody tr th:only-of-type {\n",
       "        vertical-align: middle;\n",
       "    }\n",
       "\n",
       "    .dataframe tbody tr th {\n",
       "        vertical-align: top;\n",
       "    }\n",
       "\n",
       "    .dataframe thead th {\n",
       "        text-align: right;\n",
       "    }\n",
       "</style>\n",
       "<table border=\"1\" class=\"dataframe\">\n",
       "  <thead>\n",
       "    <tr style=\"text-align: right;\">\n",
       "      <th></th>\n",
       "      <th>Timestamp</th>\n",
       "      <th>Open</th>\n",
       "      <th>High</th>\n",
       "      <th>Low</th>\n",
       "      <th>Close</th>\n",
       "      <th>Volume_(BTC)</th>\n",
       "      <th>Volume_(Currency)</th>\n",
       "      <th>Weighted_Price</th>\n",
       "    </tr>\n",
       "  </thead>\n",
       "  <tbody>\n",
       "    <tr>\n",
       "      <th>count</th>\n",
       "      <td>5.000e+05</td>\n",
       "      <td>24521.000</td>\n",
       "      <td>24521.000</td>\n",
       "      <td>24521.000</td>\n",
       "      <td>24521.000</td>\n",
       "      <td>24521.000</td>\n",
       "      <td>24521.000</td>\n",
       "      <td>24521.000</td>\n",
       "    </tr>\n",
       "    <tr>\n",
       "      <th>mean</th>\n",
       "      <td>1.340e+09</td>\n",
       "      <td>9.822</td>\n",
       "      <td>9.825</td>\n",
       "      <td>9.818</td>\n",
       "      <td>9.821</td>\n",
       "      <td>21.022</td>\n",
       "      <td>206.749</td>\n",
       "      <td>9.822</td>\n",
       "    </tr>\n",
       "    <tr>\n",
       "      <th>std</th>\n",
       "      <td>8.660e+06</td>\n",
       "      <td>2.666</td>\n",
       "      <td>2.667</td>\n",
       "      <td>2.665</td>\n",
       "      <td>2.666</td>\n",
       "      <td>55.478</td>\n",
       "      <td>547.135</td>\n",
       "      <td>2.666</td>\n",
       "    </tr>\n",
       "    <tr>\n",
       "      <th>min</th>\n",
       "      <td>1.325e+09</td>\n",
       "      <td>3.800</td>\n",
       "      <td>3.800</td>\n",
       "      <td>3.800</td>\n",
       "      <td>3.800</td>\n",
       "      <td>0.000</td>\n",
       "      <td>0.000</td>\n",
       "      <td>3.800</td>\n",
       "    </tr>\n",
       "    <tr>\n",
       "      <th>25%</th>\n",
       "      <td>1.333e+09</td>\n",
       "      <td>7.200</td>\n",
       "      <td>7.200</td>\n",
       "      <td>7.200</td>\n",
       "      <td>7.200</td>\n",
       "      <td>2.170</td>\n",
       "      <td>21.020</td>\n",
       "      <td>7.200</td>\n",
       "    </tr>\n",
       "    <tr>\n",
       "      <th>50%</th>\n",
       "      <td>1.340e+09</td>\n",
       "      <td>10.800</td>\n",
       "      <td>10.800</td>\n",
       "      <td>10.790</td>\n",
       "      <td>10.790</td>\n",
       "      <td>7.340</td>\n",
       "      <td>67.920</td>\n",
       "      <td>10.793</td>\n",
       "    </tr>\n",
       "    <tr>\n",
       "      <th>75%</th>\n",
       "      <td>1.348e+09</td>\n",
       "      <td>11.840</td>\n",
       "      <td>11.840</td>\n",
       "      <td>11.830</td>\n",
       "      <td>11.840</td>\n",
       "      <td>20.240</td>\n",
       "      <td>199.280</td>\n",
       "      <td>11.833</td>\n",
       "    </tr>\n",
       "    <tr>\n",
       "      <th>max</th>\n",
       "      <td>1.355e+09</td>\n",
       "      <td>16.410</td>\n",
       "      <td>16.410</td>\n",
       "      <td>15.490</td>\n",
       "      <td>16.000</td>\n",
       "      <td>2958.478</td>\n",
       "      <td>31212.195</td>\n",
       "      <td>16.387</td>\n",
       "    </tr>\n",
       "  </tbody>\n",
       "</table>\n",
       "</div>"
      ],
      "text/plain": [
       "       Timestamp       Open       High        Low      Close  Volume_(BTC)  Volume_(Currency)  \\\n",
       "count  5.000e+05  24521.000  24521.000  24521.000  24521.000     24521.000          24521.000   \n",
       "mean   1.340e+09      9.822      9.825      9.818      9.821        21.022            206.749   \n",
       "std    8.660e+06      2.666      2.667      2.665      2.666        55.478            547.135   \n",
       "min    1.325e+09      3.800      3.800      3.800      3.800         0.000              0.000   \n",
       "25%    1.333e+09      7.200      7.200      7.200      7.200         2.170             21.020   \n",
       "50%    1.340e+09     10.800     10.800     10.790     10.790         7.340             67.920   \n",
       "75%    1.348e+09     11.840     11.840     11.830     11.840        20.240            199.280   \n",
       "max    1.355e+09     16.410     16.410     15.490     16.000      2958.478          31212.195   \n",
       "\n",
       "       Weighted_Price  \n",
       "count       24521.000  \n",
       "mean            9.822  \n",
       "std             2.666  \n",
       "min             3.800  \n",
       "25%             7.200  \n",
       "50%            10.793  \n",
       "75%            11.833  \n",
       "max            16.387  "
      ]
     },
     "execution_count": 15,
     "metadata": {},
     "output_type": "execute_result"
    }
   ],
   "source": [
    "# describe data\n",
    "set_option('precision', 3)\n",
    "dataset.describe()"
   ]
  },
  {
   "cell_type": "markdown",
   "metadata": {},
   "source": [
    "<a id='3'></a>\n",
    "# 4. Data Preparation"
   ]
  },
  {
   "cell_type": "markdown",
   "metadata": {},
   "source": [
    "<a id='3.1'></a>\n",
    "## 4.1. Data Cleaning"
   ]
  },
  {
   "cell_type": "code",
   "execution_count": 16,
   "metadata": {},
   "outputs": [
    {
     "name": "stdout",
     "output_type": "stream",
     "text": [
      "Null Values = True\n"
     ]
    }
   ],
   "source": [
    "#Checking for any null values and removing the null values'''\n",
    "print('Null Values =',dataset.isnull().values.any())"
   ]
  },
  {
   "cell_type": "markdown",
   "metadata": {},
   "source": [
    "Given that there are null values, we need to clean the data by filling the *NaNs* with the last available values. "
   ]
  },
  {
   "cell_type": "code",
   "execution_count": 17,
   "metadata": {},
   "outputs": [],
   "source": [
    "dataset[dataset.columns.values] = dataset[dataset.columns.values].ffill()"
   ]
  },
  {
   "cell_type": "code",
   "execution_count": 18,
   "metadata": {},
   "outputs": [],
   "source": [
    "dataset=dataset.drop(columns=['Timestamp'])"
   ]
  },
  {
   "cell_type": "markdown",
   "metadata": {},
   "source": [
    "<a id='3.2'></a>\n",
    "## 4.2. Preparing the data for classification"
   ]
  },
  {
   "cell_type": "markdown",
   "metadata": {},
   "source": [
    "We attach a label to each movement: \n",
    "* **1** if the signal is that short term price will go up as compared to the long term. \n",
    "* **0** if the signal is that short term price will go down as compared to the long term."
   ]
  },
  {
   "cell_type": "code",
   "execution_count": 19,
   "metadata": {},
   "outputs": [],
   "source": [
    "# Initialize the `signals` DataFrame with the `signal` column\n",
    "#datas['PriceMove'] = 0.0\n",
    "\n",
    "# Create short simple moving average over the short window\n",
    "dataset['short_mavg'] = dataset['Close'].rolling(window=10, min_periods=1, center=False).mean()\n",
    "\n",
    "# Create long simple moving average over the long window\n",
    "dataset['long_mavg'] = dataset['Close'].rolling(window=60, min_periods=1, center=False).mean()\n",
    "\n",
    "# Create signals\n",
    "dataset['signal'] = np.where(dataset['short_mavg'] > dataset['long_mavg'], 1.0, 0.0)"
   ]
  },
  {
   "cell_type": "code",
   "execution_count": 20,
   "metadata": {},
   "outputs": [
    {
     "data": {
      "text/html": [
       "<div>\n",
       "<style scoped>\n",
       "    .dataframe tbody tr th:only-of-type {\n",
       "        vertical-align: middle;\n",
       "    }\n",
       "\n",
       "    .dataframe tbody tr th {\n",
       "        vertical-align: top;\n",
       "    }\n",
       "\n",
       "    .dataframe thead th {\n",
       "        text-align: right;\n",
       "    }\n",
       "</style>\n",
       "<table border=\"1\" class=\"dataframe\">\n",
       "  <thead>\n",
       "    <tr style=\"text-align: right;\">\n",
       "      <th></th>\n",
       "      <th>Open</th>\n",
       "      <th>High</th>\n",
       "      <th>Low</th>\n",
       "      <th>Close</th>\n",
       "      <th>Volume_(BTC)</th>\n",
       "      <th>Volume_(Currency)</th>\n",
       "      <th>Weighted_Price</th>\n",
       "      <th>short_mavg</th>\n",
       "      <th>long_mavg</th>\n",
       "      <th>signal</th>\n",
       "    </tr>\n",
       "  </thead>\n",
       "  <tbody>\n",
       "    <tr>\n",
       "      <th>499994</th>\n",
       "      <td>13.34</td>\n",
       "      <td>13.34</td>\n",
       "      <td>13.34</td>\n",
       "      <td>13.34</td>\n",
       "      <td>3.9</td>\n",
       "      <td>52.026</td>\n",
       "      <td>13.34</td>\n",
       "      <td>13.34</td>\n",
       "      <td>13.343</td>\n",
       "      <td>0.0</td>\n",
       "    </tr>\n",
       "    <tr>\n",
       "      <th>499995</th>\n",
       "      <td>13.34</td>\n",
       "      <td>13.34</td>\n",
       "      <td>13.34</td>\n",
       "      <td>13.34</td>\n",
       "      <td>3.9</td>\n",
       "      <td>52.026</td>\n",
       "      <td>13.34</td>\n",
       "      <td>13.34</td>\n",
       "      <td>13.342</td>\n",
       "      <td>0.0</td>\n",
       "    </tr>\n",
       "    <tr>\n",
       "      <th>499996</th>\n",
       "      <td>13.34</td>\n",
       "      <td>13.34</td>\n",
       "      <td>13.34</td>\n",
       "      <td>13.34</td>\n",
       "      <td>3.9</td>\n",
       "      <td>52.026</td>\n",
       "      <td>13.34</td>\n",
       "      <td>13.34</td>\n",
       "      <td>13.342</td>\n",
       "      <td>0.0</td>\n",
       "    </tr>\n",
       "    <tr>\n",
       "      <th>499997</th>\n",
       "      <td>13.34</td>\n",
       "      <td>13.34</td>\n",
       "      <td>13.34</td>\n",
       "      <td>13.34</td>\n",
       "      <td>3.9</td>\n",
       "      <td>52.026</td>\n",
       "      <td>13.34</td>\n",
       "      <td>13.34</td>\n",
       "      <td>13.341</td>\n",
       "      <td>0.0</td>\n",
       "    </tr>\n",
       "    <tr>\n",
       "      <th>499998</th>\n",
       "      <td>13.34</td>\n",
       "      <td>13.34</td>\n",
       "      <td>13.34</td>\n",
       "      <td>13.34</td>\n",
       "      <td>3.9</td>\n",
       "      <td>52.026</td>\n",
       "      <td>13.34</td>\n",
       "      <td>13.34</td>\n",
       "      <td>13.341</td>\n",
       "      <td>0.0</td>\n",
       "    </tr>\n",
       "  </tbody>\n",
       "</table>\n",
       "</div>"
      ],
      "text/plain": [
       "         Open   High    Low  Close  Volume_(BTC)  Volume_(Currency)  Weighted_Price  short_mavg  \\\n",
       "499994  13.34  13.34  13.34  13.34           3.9             52.026           13.34       13.34   \n",
       "499995  13.34  13.34  13.34  13.34           3.9             52.026           13.34       13.34   \n",
       "499996  13.34  13.34  13.34  13.34           3.9             52.026           13.34       13.34   \n",
       "499997  13.34  13.34  13.34  13.34           3.9             52.026           13.34       13.34   \n",
       "499998  13.34  13.34  13.34  13.34           3.9             52.026           13.34       13.34   \n",
       "\n",
       "        long_mavg  signal  \n",
       "499994     13.343     0.0  \n",
       "499995     13.342     0.0  \n",
       "499996     13.342     0.0  \n",
       "499997     13.341     0.0  \n",
       "499998     13.341     0.0  "
      ]
     },
     "execution_count": 20,
     "metadata": {},
     "output_type": "execute_result"
    }
   ],
   "source": [
    "dataset.tail()"
   ]
  },
  {
   "cell_type": "markdown",
   "metadata": {},
   "source": [
    "<a id='3.3'></a>\n",
    "## 4.3. Feature Engineering"
   ]
  },
  {
   "cell_type": "markdown",
   "metadata": {},
   "source": [
    "We perform feature engineering to construct technical indicators which will be used to make the predictions, and the output variable.\n",
    "\n",
    "The current data of the bicoin consists of date, open, high, low, close and volume. Using this data we calculate the following  technical indicators:\n",
    "* **Moving Average** : A moving average provides an indication of the trend of the price movement by cut down the amount of \"noise\" on a price chart. \n",
    "* **Stochastic Oscillator %K and %D** : A stochastic oscillator is a momentum indicator comparing a particular closing price of a security to a range of its prices over a certain period of time. %K and %D are slow and fast indicators.\n",
    "* **Relative Strength Index(RSI)** :It is a momentum indicator that measures the magnitude of recent price changes to evaluate overbought or oversold conditions in the price of a stock or other asset. \n",
    "* **Rate Of Change(ROC)**: It is a momentum oscillator, which measures the percentage change between the current price and the n period past price. \n",
    "* **Momentum (MOM)** : It is the rate of acceleration of a security's price or volume – that is, the speed at which the price is changing."
   ]
  },
  {
   "cell_type": "code",
   "execution_count": 21,
   "metadata": {},
   "outputs": [],
   "source": [
    "#calculation of exponential moving average\n",
    "def EMA(df, n):\n",
    "    EMA = pd.Series(df['Close'].ewm(span=n, min_periods=n).mean(), name='EMA_' + str(n))\n",
    "    return EMA\n",
    "dataset['EMA10'] = EMA(dataset, 10)\n",
    "dataset['EMA30'] = EMA(dataset, 30)\n",
    "dataset['EMA200'] = EMA(dataset, 200)\n",
    "dataset.head()\n",
    "\n",
    "#calculation of rate of change\n",
    "def ROC(df, n):  \n",
    "    M = df.diff(n - 1)  \n",
    "    N = df.shift(n - 1)  \n",
    "    ROC = pd.Series(((M / N) * 100), name = 'ROC_' + str(n))   \n",
    "    return ROC\n",
    "dataset['ROC10'] = ROC(dataset['Close'], 10)\n",
    "dataset['ROC30'] = ROC(dataset['Close'], 30)\n",
    "\n",
    "#Calculation of price momentum\n",
    "def MOM(df, n):   \n",
    "    MOM = pd.Series(df.diff(n), name='Momentum_' + str(n))   \n",
    "    return MOM\n",
    "dataset['MOM10'] = MOM(dataset['Close'], 10)\n",
    "dataset['MOM30'] = MOM(dataset['Close'], 30)\n",
    "\n",
    "#calculation of relative strength index\n",
    "def RSI(series, period):\n",
    " delta = series.diff().dropna()\n",
    " u = delta * 0\n",
    " d = u.copy()\n",
    " u[delta > 0] = delta[delta > 0]\n",
    " d[delta < 0] = -delta[delta < 0]\n",
    " u[u.index[period-1]] = np.mean( u[:period] ) #first value is sum of avg gains\n",
    " u = u.drop(u.index[:(period-1)])\n",
    " d[d.index[period-1]] = np.mean( d[:period] ) #first value is sum of avg losses\n",
    " d = d.drop(d.index[:(period-1)])\n",
    " rs = u.ewm(com=period-1, adjust=False).mean() / \\\n",
    " d.ewm(com=period-1, adjust=False).mean()\n",
    " return 100 - 100 / (1 + rs)\n",
    "dataset['RSI10'] = RSI(dataset['Close'], 10)\n",
    "dataset['RSI30'] = RSI(dataset['Close'], 30)\n",
    "dataset['RSI200'] = RSI(dataset['Close'], 200)\n",
    "\n",
    "#calculation of stochastic osillator.\n",
    "\n",
    "def STOK(close, low, high, n): \n",
    " STOK = ((close - low.rolling(n).min()) / (high.rolling(n).max() - low.rolling(n).min())) * 100\n",
    " return STOK\n",
    "\n",
    "def STOD(close, low, high, n):\n",
    " STOK = ((close - low.rolling(n).min()) / (high.rolling(n).max() - low.rolling(n).min())) * 100\n",
    " STOD = STOK.rolling(3).mean()\n",
    " return STOD\n",
    "\n",
    "dataset['%K10'] = STOK(dataset['Close'], dataset['Low'], dataset['High'], 10)\n",
    "dataset['%D10'] = STOD(dataset['Close'], dataset['Low'], dataset['High'], 10)\n",
    "dataset['%K30'] = STOK(dataset['Close'], dataset['Low'], dataset['High'], 30)\n",
    "dataset['%D30'] = STOD(dataset['Close'], dataset['Low'], dataset['High'], 30)\n",
    "dataset['%K200'] = STOK(dataset['Close'], dataset['Low'], dataset['High'], 200)\n",
    "dataset['%D200'] = STOD(dataset['Close'], dataset['Low'], dataset['High'], 200)"
   ]
  },
  {
   "cell_type": "code",
   "execution_count": 22,
   "metadata": {},
   "outputs": [
    {
     "data": {
      "text/html": [
       "<div>\n",
       "<style scoped>\n",
       "    .dataframe tbody tr th:only-of-type {\n",
       "        vertical-align: middle;\n",
       "    }\n",
       "\n",
       "    .dataframe tbody tr th {\n",
       "        vertical-align: top;\n",
       "    }\n",
       "\n",
       "    .dataframe thead th {\n",
       "        text-align: right;\n",
       "    }\n",
       "</style>\n",
       "<table border=\"1\" class=\"dataframe\">\n",
       "  <thead>\n",
       "    <tr style=\"text-align: right;\">\n",
       "      <th></th>\n",
       "      <th>Open</th>\n",
       "      <th>High</th>\n",
       "      <th>Low</th>\n",
       "      <th>Close</th>\n",
       "      <th>Volume_(BTC)</th>\n",
       "      <th>Volume_(Currency)</th>\n",
       "      <th>Weighted_Price</th>\n",
       "      <th>short_mavg</th>\n",
       "      <th>long_mavg</th>\n",
       "      <th>signal</th>\n",
       "      <th>...</th>\n",
       "      <th>RSI200</th>\n",
       "      <th>%K10</th>\n",
       "      <th>%D10</th>\n",
       "      <th>%K30</th>\n",
       "      <th>%D30</th>\n",
       "      <th>%K200</th>\n",
       "      <th>%D200</th>\n",
       "      <th>MA21</th>\n",
       "      <th>MA63</th>\n",
       "      <th>MA252</th>\n",
       "    </tr>\n",
       "  </thead>\n",
       "  <tbody>\n",
       "    <tr>\n",
       "      <th>499994</th>\n",
       "      <td>13.34</td>\n",
       "      <td>13.34</td>\n",
       "      <td>13.34</td>\n",
       "      <td>13.34</td>\n",
       "      <td>3.9</td>\n",
       "      <td>52.026</td>\n",
       "      <td>13.34</td>\n",
       "      <td>13.34</td>\n",
       "      <td>13.343</td>\n",
       "      <td>0.0</td>\n",
       "      <td>...</td>\n",
       "      <td>44.067</td>\n",
       "      <td>NaN</td>\n",
       "      <td>NaN</td>\n",
       "      <td>NaN</td>\n",
       "      <td>NaN</td>\n",
       "      <td>10.0</td>\n",
       "      <td>10.0</td>\n",
       "      <td>13.34</td>\n",
       "      <td>13.34</td>\n",
       "      <td>13.380</td>\n",
       "    </tr>\n",
       "    <tr>\n",
       "      <th>499995</th>\n",
       "      <td>13.34</td>\n",
       "      <td>13.34</td>\n",
       "      <td>13.34</td>\n",
       "      <td>13.34</td>\n",
       "      <td>3.9</td>\n",
       "      <td>52.026</td>\n",
       "      <td>13.34</td>\n",
       "      <td>13.34</td>\n",
       "      <td>13.342</td>\n",
       "      <td>0.0</td>\n",
       "      <td>...</td>\n",
       "      <td>44.067</td>\n",
       "      <td>NaN</td>\n",
       "      <td>NaN</td>\n",
       "      <td>NaN</td>\n",
       "      <td>NaN</td>\n",
       "      <td>10.0</td>\n",
       "      <td>10.0</td>\n",
       "      <td>13.34</td>\n",
       "      <td>13.34</td>\n",
       "      <td>13.380</td>\n",
       "    </tr>\n",
       "    <tr>\n",
       "      <th>499996</th>\n",
       "      <td>13.34</td>\n",
       "      <td>13.34</td>\n",
       "      <td>13.34</td>\n",
       "      <td>13.34</td>\n",
       "      <td>3.9</td>\n",
       "      <td>52.026</td>\n",
       "      <td>13.34</td>\n",
       "      <td>13.34</td>\n",
       "      <td>13.342</td>\n",
       "      <td>0.0</td>\n",
       "      <td>...</td>\n",
       "      <td>44.067</td>\n",
       "      <td>NaN</td>\n",
       "      <td>NaN</td>\n",
       "      <td>NaN</td>\n",
       "      <td>NaN</td>\n",
       "      <td>10.0</td>\n",
       "      <td>10.0</td>\n",
       "      <td>13.34</td>\n",
       "      <td>13.34</td>\n",
       "      <td>13.380</td>\n",
       "    </tr>\n",
       "    <tr>\n",
       "      <th>499997</th>\n",
       "      <td>13.34</td>\n",
       "      <td>13.34</td>\n",
       "      <td>13.34</td>\n",
       "      <td>13.34</td>\n",
       "      <td>3.9</td>\n",
       "      <td>52.026</td>\n",
       "      <td>13.34</td>\n",
       "      <td>13.34</td>\n",
       "      <td>13.341</td>\n",
       "      <td>0.0</td>\n",
       "      <td>...</td>\n",
       "      <td>44.067</td>\n",
       "      <td>NaN</td>\n",
       "      <td>NaN</td>\n",
       "      <td>NaN</td>\n",
       "      <td>NaN</td>\n",
       "      <td>10.0</td>\n",
       "      <td>10.0</td>\n",
       "      <td>13.34</td>\n",
       "      <td>13.34</td>\n",
       "      <td>13.380</td>\n",
       "    </tr>\n",
       "    <tr>\n",
       "      <th>499998</th>\n",
       "      <td>13.34</td>\n",
       "      <td>13.34</td>\n",
       "      <td>13.34</td>\n",
       "      <td>13.34</td>\n",
       "      <td>3.9</td>\n",
       "      <td>52.026</td>\n",
       "      <td>13.34</td>\n",
       "      <td>13.34</td>\n",
       "      <td>13.341</td>\n",
       "      <td>0.0</td>\n",
       "      <td>...</td>\n",
       "      <td>44.067</td>\n",
       "      <td>NaN</td>\n",
       "      <td>NaN</td>\n",
       "      <td>NaN</td>\n",
       "      <td>NaN</td>\n",
       "      <td>10.0</td>\n",
       "      <td>10.0</td>\n",
       "      <td>13.34</td>\n",
       "      <td>13.34</td>\n",
       "      <td>13.379</td>\n",
       "    </tr>\n",
       "  </tbody>\n",
       "</table>\n",
       "<p>5 rows × 29 columns</p>\n",
       "</div>"
      ],
      "text/plain": [
       "         Open   High    Low  Close  Volume_(BTC)  Volume_(Currency)  Weighted_Price  short_mavg  \\\n",
       "499994  13.34  13.34  13.34  13.34           3.9             52.026           13.34       13.34   \n",
       "499995  13.34  13.34  13.34  13.34           3.9             52.026           13.34       13.34   \n",
       "499996  13.34  13.34  13.34  13.34           3.9             52.026           13.34       13.34   \n",
       "499997  13.34  13.34  13.34  13.34           3.9             52.026           13.34       13.34   \n",
       "499998  13.34  13.34  13.34  13.34           3.9             52.026           13.34       13.34   \n",
       "\n",
       "        long_mavg  signal  ...  RSI200  %K10  %D10  %K30  %D30  %K200  %D200   MA21   MA63   MA252  \n",
       "499994     13.343     0.0  ...  44.067   NaN   NaN   NaN   NaN   10.0   10.0  13.34  13.34  13.380  \n",
       "499995     13.342     0.0  ...  44.067   NaN   NaN   NaN   NaN   10.0   10.0  13.34  13.34  13.380  \n",
       "499996     13.342     0.0  ...  44.067   NaN   NaN   NaN   NaN   10.0   10.0  13.34  13.34  13.380  \n",
       "499997     13.341     0.0  ...  44.067   NaN   NaN   NaN   NaN   10.0   10.0  13.34  13.34  13.380  \n",
       "499998     13.341     0.0  ...  44.067   NaN   NaN   NaN   NaN   10.0   10.0  13.34  13.34  13.379  \n",
       "\n",
       "[5 rows x 29 columns]"
      ]
     },
     "execution_count": 22,
     "metadata": {},
     "output_type": "execute_result"
    }
   ],
   "source": [
    "#Calculation of moving average\n",
    "def MA(df, n):\n",
    "    MA = pd.Series(df['Close'].rolling(n, min_periods=n).mean(), name='MA_' + str(n))\n",
    "    return MA\n",
    "dataset['MA21'] = MA(dataset, 10)\n",
    "dataset['MA63'] = MA(dataset, 30)\n",
    "dataset['MA252'] = MA(dataset, 200)\n",
    "dataset.tail()"
   ]
  },
  {
   "cell_type": "code",
   "execution_count": 23,
   "metadata": {},
   "outputs": [
    {
     "data": {
      "text/html": [
       "<div>\n",
       "<style scoped>\n",
       "    .dataframe tbody tr th:only-of-type {\n",
       "        vertical-align: middle;\n",
       "    }\n",
       "\n",
       "    .dataframe tbody tr th {\n",
       "        vertical-align: top;\n",
       "    }\n",
       "\n",
       "    .dataframe thead th {\n",
       "        text-align: right;\n",
       "    }\n",
       "</style>\n",
       "<table border=\"1\" class=\"dataframe\">\n",
       "  <thead>\n",
       "    <tr style=\"text-align: right;\">\n",
       "      <th></th>\n",
       "      <th>Open</th>\n",
       "      <th>High</th>\n",
       "      <th>Low</th>\n",
       "      <th>Close</th>\n",
       "      <th>Volume_(BTC)</th>\n",
       "      <th>Volume_(Currency)</th>\n",
       "      <th>Weighted_Price</th>\n",
       "      <th>short_mavg</th>\n",
       "      <th>long_mavg</th>\n",
       "      <th>signal</th>\n",
       "      <th>...</th>\n",
       "      <th>RSI200</th>\n",
       "      <th>%K10</th>\n",
       "      <th>%D10</th>\n",
       "      <th>%K30</th>\n",
       "      <th>%D30</th>\n",
       "      <th>%K200</th>\n",
       "      <th>%D200</th>\n",
       "      <th>MA21</th>\n",
       "      <th>MA63</th>\n",
       "      <th>MA252</th>\n",
       "    </tr>\n",
       "  </thead>\n",
       "  <tbody>\n",
       "    <tr>\n",
       "      <th>499994</th>\n",
       "      <td>13.34</td>\n",
       "      <td>13.34</td>\n",
       "      <td>13.34</td>\n",
       "      <td>13.34</td>\n",
       "      <td>3.9</td>\n",
       "      <td>52.026</td>\n",
       "      <td>13.34</td>\n",
       "      <td>13.34</td>\n",
       "      <td>13.343</td>\n",
       "      <td>0.0</td>\n",
       "      <td>...</td>\n",
       "      <td>44.067</td>\n",
       "      <td>NaN</td>\n",
       "      <td>NaN</td>\n",
       "      <td>NaN</td>\n",
       "      <td>NaN</td>\n",
       "      <td>10.0</td>\n",
       "      <td>10.0</td>\n",
       "      <td>13.34</td>\n",
       "      <td>13.34</td>\n",
       "      <td>13.380</td>\n",
       "    </tr>\n",
       "    <tr>\n",
       "      <th>499995</th>\n",
       "      <td>13.34</td>\n",
       "      <td>13.34</td>\n",
       "      <td>13.34</td>\n",
       "      <td>13.34</td>\n",
       "      <td>3.9</td>\n",
       "      <td>52.026</td>\n",
       "      <td>13.34</td>\n",
       "      <td>13.34</td>\n",
       "      <td>13.342</td>\n",
       "      <td>0.0</td>\n",
       "      <td>...</td>\n",
       "      <td>44.067</td>\n",
       "      <td>NaN</td>\n",
       "      <td>NaN</td>\n",
       "      <td>NaN</td>\n",
       "      <td>NaN</td>\n",
       "      <td>10.0</td>\n",
       "      <td>10.0</td>\n",
       "      <td>13.34</td>\n",
       "      <td>13.34</td>\n",
       "      <td>13.380</td>\n",
       "    </tr>\n",
       "    <tr>\n",
       "      <th>499996</th>\n",
       "      <td>13.34</td>\n",
       "      <td>13.34</td>\n",
       "      <td>13.34</td>\n",
       "      <td>13.34</td>\n",
       "      <td>3.9</td>\n",
       "      <td>52.026</td>\n",
       "      <td>13.34</td>\n",
       "      <td>13.34</td>\n",
       "      <td>13.342</td>\n",
       "      <td>0.0</td>\n",
       "      <td>...</td>\n",
       "      <td>44.067</td>\n",
       "      <td>NaN</td>\n",
       "      <td>NaN</td>\n",
       "      <td>NaN</td>\n",
       "      <td>NaN</td>\n",
       "      <td>10.0</td>\n",
       "      <td>10.0</td>\n",
       "      <td>13.34</td>\n",
       "      <td>13.34</td>\n",
       "      <td>13.380</td>\n",
       "    </tr>\n",
       "    <tr>\n",
       "      <th>499997</th>\n",
       "      <td>13.34</td>\n",
       "      <td>13.34</td>\n",
       "      <td>13.34</td>\n",
       "      <td>13.34</td>\n",
       "      <td>3.9</td>\n",
       "      <td>52.026</td>\n",
       "      <td>13.34</td>\n",
       "      <td>13.34</td>\n",
       "      <td>13.341</td>\n",
       "      <td>0.0</td>\n",
       "      <td>...</td>\n",
       "      <td>44.067</td>\n",
       "      <td>NaN</td>\n",
       "      <td>NaN</td>\n",
       "      <td>NaN</td>\n",
       "      <td>NaN</td>\n",
       "      <td>10.0</td>\n",
       "      <td>10.0</td>\n",
       "      <td>13.34</td>\n",
       "      <td>13.34</td>\n",
       "      <td>13.380</td>\n",
       "    </tr>\n",
       "    <tr>\n",
       "      <th>499998</th>\n",
       "      <td>13.34</td>\n",
       "      <td>13.34</td>\n",
       "      <td>13.34</td>\n",
       "      <td>13.34</td>\n",
       "      <td>3.9</td>\n",
       "      <td>52.026</td>\n",
       "      <td>13.34</td>\n",
       "      <td>13.34</td>\n",
       "      <td>13.341</td>\n",
       "      <td>0.0</td>\n",
       "      <td>...</td>\n",
       "      <td>44.067</td>\n",
       "      <td>NaN</td>\n",
       "      <td>NaN</td>\n",
       "      <td>NaN</td>\n",
       "      <td>NaN</td>\n",
       "      <td>10.0</td>\n",
       "      <td>10.0</td>\n",
       "      <td>13.34</td>\n",
       "      <td>13.34</td>\n",
       "      <td>13.379</td>\n",
       "    </tr>\n",
       "  </tbody>\n",
       "</table>\n",
       "<p>5 rows × 29 columns</p>\n",
       "</div>"
      ],
      "text/plain": [
       "         Open   High    Low  Close  Volume_(BTC)  Volume_(Currency)  Weighted_Price  short_mavg  \\\n",
       "499994  13.34  13.34  13.34  13.34           3.9             52.026           13.34       13.34   \n",
       "499995  13.34  13.34  13.34  13.34           3.9             52.026           13.34       13.34   \n",
       "499996  13.34  13.34  13.34  13.34           3.9             52.026           13.34       13.34   \n",
       "499997  13.34  13.34  13.34  13.34           3.9             52.026           13.34       13.34   \n",
       "499998  13.34  13.34  13.34  13.34           3.9             52.026           13.34       13.34   \n",
       "\n",
       "        long_mavg  signal  ...  RSI200  %K10  %D10  %K30  %D30  %K200  %D200   MA21   MA63   MA252  \n",
       "499994     13.343     0.0  ...  44.067   NaN   NaN   NaN   NaN   10.0   10.0  13.34  13.34  13.380  \n",
       "499995     13.342     0.0  ...  44.067   NaN   NaN   NaN   NaN   10.0   10.0  13.34  13.34  13.380  \n",
       "499996     13.342     0.0  ...  44.067   NaN   NaN   NaN   NaN   10.0   10.0  13.34  13.34  13.380  \n",
       "499997     13.341     0.0  ...  44.067   NaN   NaN   NaN   NaN   10.0   10.0  13.34  13.34  13.380  \n",
       "499998     13.341     0.0  ...  44.067   NaN   NaN   NaN   NaN   10.0   10.0  13.34  13.34  13.379  \n",
       "\n",
       "[5 rows x 29 columns]"
      ]
     },
     "execution_count": 23,
     "metadata": {},
     "output_type": "execute_result"
    }
   ],
   "source": [
    "dataset.tail()"
   ]
  },
  {
   "cell_type": "code",
   "execution_count": 24,
   "metadata": {},
   "outputs": [],
   "source": [
    "#excluding columns that are not needed for our prediction.\n",
    "\n",
    "dataset=dataset.drop(['High','Low','Open', 'Volume_(Currency)','short_mavg','long_mavg'], axis=1)"
   ]
  },
  {
   "cell_type": "code",
   "execution_count": 25,
   "metadata": {},
   "outputs": [],
   "source": [
    "dataset = dataset.dropna(axis=0)"
   ]
  },
  {
   "cell_type": "code",
   "execution_count": 26,
   "metadata": {},
   "outputs": [
    {
     "data": {
      "text/html": [
       "<div>\n",
       "<style scoped>\n",
       "    .dataframe tbody tr th:only-of-type {\n",
       "        vertical-align: middle;\n",
       "    }\n",
       "\n",
       "    .dataframe tbody tr th {\n",
       "        vertical-align: top;\n",
       "    }\n",
       "\n",
       "    .dataframe thead th {\n",
       "        text-align: right;\n",
       "    }\n",
       "</style>\n",
       "<table border=\"1\" class=\"dataframe\">\n",
       "  <thead>\n",
       "    <tr style=\"text-align: right;\">\n",
       "      <th></th>\n",
       "      <th>Close</th>\n",
       "      <th>Volume_(BTC)</th>\n",
       "      <th>Weighted_Price</th>\n",
       "      <th>signal</th>\n",
       "      <th>EMA10</th>\n",
       "      <th>EMA30</th>\n",
       "      <th>EMA200</th>\n",
       "      <th>ROC10</th>\n",
       "      <th>ROC30</th>\n",
       "      <th>MOM10</th>\n",
       "      <th>...</th>\n",
       "      <th>RSI200</th>\n",
       "      <th>%K10</th>\n",
       "      <th>%D10</th>\n",
       "      <th>%K30</th>\n",
       "      <th>%D30</th>\n",
       "      <th>%K200</th>\n",
       "      <th>%D200</th>\n",
       "      <th>MA21</th>\n",
       "      <th>MA63</th>\n",
       "      <th>MA252</th>\n",
       "    </tr>\n",
       "  </thead>\n",
       "  <tbody>\n",
       "    <tr>\n",
       "      <th>499965</th>\n",
       "      <td>13.34</td>\n",
       "      <td>3.9</td>\n",
       "      <td>13.34</td>\n",
       "      <td>0.0</td>\n",
       "      <td>13.351</td>\n",
       "      <td>13.356</td>\n",
       "      <td>13.386</td>\n",
       "      <td>0.075</td>\n",
       "      <td>-0.299</td>\n",
       "      <td>0.01</td>\n",
       "      <td>...</td>\n",
       "      <td>44.067</td>\n",
       "      <td>11.111</td>\n",
       "      <td>1.111e+01</td>\n",
       "      <td>11.111</td>\n",
       "      <td>11.111</td>\n",
       "      <td>10.0</td>\n",
       "      <td>10.0</td>\n",
       "      <td>13.362</td>\n",
       "      <td>13.345</td>\n",
       "      <td>13.388</td>\n",
       "    </tr>\n",
       "    <tr>\n",
       "      <th>499966</th>\n",
       "      <td>13.34</td>\n",
       "      <td>3.9</td>\n",
       "      <td>13.34</td>\n",
       "      <td>0.0</td>\n",
       "      <td>13.349</td>\n",
       "      <td>13.355</td>\n",
       "      <td>13.386</td>\n",
       "      <td>0.075</td>\n",
       "      <td>-0.224</td>\n",
       "      <td>0.01</td>\n",
       "      <td>...</td>\n",
       "      <td>44.067</td>\n",
       "      <td>11.111</td>\n",
       "      <td>1.111e+01</td>\n",
       "      <td>11.111</td>\n",
       "      <td>11.111</td>\n",
       "      <td>10.0</td>\n",
       "      <td>10.0</td>\n",
       "      <td>13.363</td>\n",
       "      <td>13.343</td>\n",
       "      <td>13.387</td>\n",
       "    </tr>\n",
       "    <tr>\n",
       "      <th>499967</th>\n",
       "      <td>13.34</td>\n",
       "      <td>3.9</td>\n",
       "      <td>13.34</td>\n",
       "      <td>0.0</td>\n",
       "      <td>13.348</td>\n",
       "      <td>13.354</td>\n",
       "      <td>13.385</td>\n",
       "      <td>-0.596</td>\n",
       "      <td>-0.075</td>\n",
       "      <td>0.01</td>\n",
       "      <td>...</td>\n",
       "      <td>44.067</td>\n",
       "      <td>0.000</td>\n",
       "      <td>7.407e+00</td>\n",
       "      <td>11.111</td>\n",
       "      <td>11.111</td>\n",
       "      <td>10.0</td>\n",
       "      <td>10.0</td>\n",
       "      <td>13.364</td>\n",
       "      <td>13.342</td>\n",
       "      <td>13.387</td>\n",
       "    </tr>\n",
       "    <tr>\n",
       "      <th>499968</th>\n",
       "      <td>13.34</td>\n",
       "      <td>3.9</td>\n",
       "      <td>13.34</td>\n",
       "      <td>0.0</td>\n",
       "      <td>13.346</td>\n",
       "      <td>13.353</td>\n",
       "      <td>13.385</td>\n",
       "      <td>-0.596</td>\n",
       "      <td>0.000</td>\n",
       "      <td>-0.08</td>\n",
       "      <td>...</td>\n",
       "      <td>44.067</td>\n",
       "      <td>0.000</td>\n",
       "      <td>3.704e+00</td>\n",
       "      <td>11.111</td>\n",
       "      <td>11.111</td>\n",
       "      <td>10.0</td>\n",
       "      <td>10.0</td>\n",
       "      <td>13.356</td>\n",
       "      <td>13.342</td>\n",
       "      <td>13.387</td>\n",
       "    </tr>\n",
       "    <tr>\n",
       "      <th>499969</th>\n",
       "      <td>13.34</td>\n",
       "      <td>3.9</td>\n",
       "      <td>13.34</td>\n",
       "      <td>0.0</td>\n",
       "      <td>13.345</td>\n",
       "      <td>13.352</td>\n",
       "      <td>13.385</td>\n",
       "      <td>-0.596</td>\n",
       "      <td>0.075</td>\n",
       "      <td>-0.08</td>\n",
       "      <td>...</td>\n",
       "      <td>44.067</td>\n",
       "      <td>0.000</td>\n",
       "      <td>2.842e-14</td>\n",
       "      <td>11.111</td>\n",
       "      <td>11.111</td>\n",
       "      <td>10.0</td>\n",
       "      <td>10.0</td>\n",
       "      <td>13.348</td>\n",
       "      <td>13.342</td>\n",
       "      <td>13.387</td>\n",
       "    </tr>\n",
       "  </tbody>\n",
       "</table>\n",
       "<p>5 rows × 23 columns</p>\n",
       "</div>"
      ],
      "text/plain": [
       "        Close  Volume_(BTC)  Weighted_Price  signal   EMA10   EMA30  EMA200  ROC10  ROC30  MOM10  \\\n",
       "499965  13.34           3.9           13.34     0.0  13.351  13.356  13.386  0.075 -0.299   0.01   \n",
       "499966  13.34           3.9           13.34     0.0  13.349  13.355  13.386  0.075 -0.224   0.01   \n",
       "499967  13.34           3.9           13.34     0.0  13.348  13.354  13.385 -0.596 -0.075   0.01   \n",
       "499968  13.34           3.9           13.34     0.0  13.346  13.353  13.385 -0.596  0.000  -0.08   \n",
       "499969  13.34           3.9           13.34     0.0  13.345  13.352  13.385 -0.596  0.075  -0.08   \n",
       "\n",
       "        ...  RSI200    %K10       %D10    %K30    %D30  %K200  %D200    MA21    MA63   MA252  \n",
       "499965  ...  44.067  11.111  1.111e+01  11.111  11.111   10.0   10.0  13.362  13.345  13.388  \n",
       "499966  ...  44.067  11.111  1.111e+01  11.111  11.111   10.0   10.0  13.363  13.343  13.387  \n",
       "499967  ...  44.067   0.000  7.407e+00  11.111  11.111   10.0   10.0  13.364  13.342  13.387  \n",
       "499968  ...  44.067   0.000  3.704e+00  11.111  11.111   10.0   10.0  13.356  13.342  13.387  \n",
       "499969  ...  44.067   0.000  2.842e-14  11.111  11.111   10.0   10.0  13.348  13.342  13.387  \n",
       "\n",
       "[5 rows x 23 columns]"
      ]
     },
     "execution_count": 26,
     "metadata": {},
     "output_type": "execute_result"
    }
   ],
   "source": [
    "dataset.tail()"
   ]
  },
  {
   "cell_type": "markdown",
   "metadata": {},
   "source": [
    "<a id='3.4'></a>\n",
    "## 4.4. Data Visualization"
   ]
  },
  {
   "cell_type": "code",
   "execution_count": 27,
   "metadata": {},
   "outputs": [
    {
     "data": {
      "image/png": "[encoded data removed]",
      "text/plain": [
       "<Figure size 432x288 with 1 Axes>"
      ]
     },
     "metadata": {
      "needs_background": "light"
     },
     "output_type": "display_data"
    }
   ],
   "source": [
    "dataset[['Weighted_Price']].plot(grid=True)\n",
    "plt.show()"
   ]
  },
  {
   "cell_type": "code",
   "execution_count": 28,
   "metadata": {},
   "outputs": [
    {
     "data": {
      "image/png": "[encoded data removed]",
      "text/plain": [
       "<Figure size 432x288 with 1 Axes>"
      ]
     },
     "metadata": {
      "needs_background": "light"
     },
     "output_type": "display_data"
    }
   ],
   "source": [
    "fig = plt.figure()\n",
    "plot = dataset.groupby(['signal']).size().plot(kind='barh', color='red')\n",
    "plt.show()"
   ]
  },
  {
   "cell_type": "markdown",
   "metadata": {},
   "source": [
    "The predicted variable is upward 52.87% out of total data-size, meaning that number\n",
    "of the buy signals was higher than that of sell signals."
   ]
  },
  {
   "cell_type": "markdown",
   "metadata": {},
   "source": [
    "<a id='4'></a>\n",
    "# 5. Evaluate Algorithms and Models"
   ]
  },
  {
   "cell_type": "markdown",
   "metadata": {},
   "source": [
    "<a id='4.1'></a>\n",
    "## 5.1. Train Test Split"
   ]
  },
  {
   "cell_type": "markdown",
   "metadata": {},
   "source": [
    "We split the dataset into 80% training set and 20% test set."
   ]
  },
  {
   "cell_type": "code",
   "execution_count": 29,
   "metadata": {},
   "outputs": [],
   "source": [
    "# split out validation dataset for the end\n",
    "subset_dataset= dataset.iloc[-10000:]\n",
    "Y= subset_dataset[\"signal\"]\n",
    "X = subset_dataset.loc[:, dataset.columns != 'signal']\n",
    "validation_size = 0.2\n",
    "seed = 1\n",
    "X_train, X_validation, Y_train, Y_validation = train_test_split(X, Y, test_size=validation_size, random_state=1)"
   ]
  },
  {
   "cell_type": "markdown",
   "metadata": {},
   "source": [
    "### Data Standardisation\n",
    "As a preprocessing step, let's start with normalizing the feature values so they standardised - this makes comparisons simpler and allows next steps for Singular Value Decomposition."
   ]
  },
  {
   "cell_type": "code",
   "execution_count": 30,
   "metadata": {},
   "outputs": [
    {
     "data": {
      "text/html": [
       "<div>\n",
       "<style scoped>\n",
       "    .dataframe tbody tr th:only-of-type {\n",
       "        vertical-align: middle;\n",
       "    }\n",
       "\n",
       "    .dataframe tbody tr th {\n",
       "        vertical-align: top;\n",
       "    }\n",
       "\n",
       "    .dataframe thead th {\n",
       "        text-align: right;\n",
       "    }\n",
       "</style>\n",
       "<table border=\"1\" class=\"dataframe\">\n",
       "  <thead>\n",
       "    <tr style=\"text-align: right;\">\n",
       "      <th></th>\n",
       "      <th>Close</th>\n",
       "      <th>Volume_(BTC)</th>\n",
       "      <th>Weighted_Price</th>\n",
       "      <th>EMA10</th>\n",
       "      <th>EMA30</th>\n",
       "      <th>EMA200</th>\n",
       "      <th>ROC10</th>\n",
       "      <th>ROC30</th>\n",
       "      <th>MOM10</th>\n",
       "      <th>MOM30</th>\n",
       "      <th>...</th>\n",
       "      <th>RSI200</th>\n",
       "      <th>%K10</th>\n",
       "      <th>%D10</th>\n",
       "      <th>%K30</th>\n",
       "      <th>%D30</th>\n",
       "      <th>%K200</th>\n",
       "      <th>%D200</th>\n",
       "      <th>MA21</th>\n",
       "      <th>MA63</th>\n",
       "      <th>MA252</th>\n",
       "    </tr>\n",
       "  </thead>\n",
       "  <tbody>\n",
       "    <tr>\n",
       "      <th>476354</th>\n",
       "      <td>-0.259</td>\n",
       "      <td>-0.141</td>\n",
       "      <td>-0.270</td>\n",
       "      <td>-0.261</td>\n",
       "      <td>-0.270</td>\n",
       "      <td>-0.320</td>\n",
       "      <td>0.094</td>\n",
       "      <td>0.096</td>\n",
       "      <td>0.098</td>\n",
       "      <td>0.099</td>\n",
       "      <td>...</td>\n",
       "      <td>1.177</td>\n",
       "      <td>0.896</td>\n",
       "      <td>0.931</td>\n",
       "      <td>0.927</td>\n",
       "      <td>0.957</td>\n",
       "      <td>0.992</td>\n",
       "      <td>1.011</td>\n",
       "      <td>-0.260</td>\n",
       "      <td>-0.270</td>\n",
       "      <td>-0.326</td>\n",
       "    </tr>\n",
       "    <tr>\n",
       "      <th>484333</th>\n",
       "      <td>-0.259</td>\n",
       "      <td>-0.307</td>\n",
       "      <td>-0.262</td>\n",
       "      <td>-0.272</td>\n",
       "      <td>-0.306</td>\n",
       "      <td>-0.289</td>\n",
       "      <td>0.577</td>\n",
       "      <td>0.494</td>\n",
       "      <td>0.568</td>\n",
       "      <td>0.490</td>\n",
       "      <td>...</td>\n",
       "      <td>-0.105</td>\n",
       "      <td>0.896</td>\n",
       "      <td>0.931</td>\n",
       "      <td>0.927</td>\n",
       "      <td>0.957</td>\n",
       "      <td>0.268</td>\n",
       "      <td>0.277</td>\n",
       "      <td>-0.266</td>\n",
       "      <td>-0.318</td>\n",
       "      <td>-0.281</td>\n",
       "    </tr>\n",
       "  </tbody>\n",
       "</table>\n",
       "<p>2 rows × 22 columns</p>\n",
       "</div>"
      ],
      "text/plain": [
       "        Close  Volume_(BTC)  Weighted_Price  EMA10  EMA30  EMA200  ROC10  ROC30  MOM10  MOM30  \\\n",
       "476354 -0.259        -0.141          -0.270 -0.261 -0.270  -0.320  0.094  0.096  0.098  0.099   \n",
       "484333 -0.259        -0.307          -0.262 -0.272 -0.306  -0.289  0.577  0.494  0.568  0.490   \n",
       "\n",
       "        ...  RSI200   %K10   %D10   %K30   %D30  %K200  %D200   MA21   MA63  MA252  \n",
       "476354  ...   1.177  0.896  0.931  0.927  0.957  0.992  1.011 -0.260 -0.270 -0.326  \n",
       "484333  ...  -0.105  0.896  0.931  0.927  0.957  0.268  0.277 -0.266 -0.318 -0.281  \n",
       "\n",
       "[2 rows x 22 columns]"
      ]
     },
     "execution_count": 30,
     "metadata": {},
     "output_type": "execute_result"
    }
   ],
   "source": [
    "from sklearn.preprocessing import StandardScaler\n",
    "scaler = StandardScaler().fit(X_train)\n",
    "rescaledDataset = pd.DataFrame(scaler.fit_transform(X_train),columns = X_train.columns, index = X_train.index)\n",
    "# summarize transformed data\n",
    "X_train.dropna(how='any', inplace=True)\n",
    "rescaledDataset.dropna(how='any', inplace=True)\n",
    "rescaledDataset.head(2)"
   ]
  },
  {
   "cell_type": "markdown",
   "metadata": {},
   "source": [
    "<a id='4.2'></a>\n",
    "## 5.2. Singular Value Decomposition-(Feature Reduction)"
   ]
  },
  {
   "cell_type": "markdown",
   "metadata": {},
   "source": [
    "We want to reduce the dimensionality of the problem to make it more manageable, but at the same time we want to preserve as much information as possible. "
   ]
  },
  {
   "cell_type": "markdown",
   "metadata": {},
   "source": [
    "Hence, we use a technique called singu‐\n",
    "lar value decomposition (SVD), which is one of the ways of performing PCA.Singular Value Decomposition (SVD) is a matrix factorization commonly used in signal processing and data compression. We are using the TruncatedSVD method in the sklearn package."
   ]
  },
  {
   "cell_type": "code",
   "execution_count": 31,
   "metadata": {},
   "outputs": [
    {
     "name": "stdout",
     "output_type": "stream",
     "text": [
      "Variance preserved by first 5 components == 94.24%\n"
     ]
    },
    {
     "data": {
      "image/png": "[encoded data removed]",
      "text/plain": [
       "<Figure size 720x288 with 1 Axes>"
      ]
     },
     "metadata": {
      "needs_background": "light"
     },
     "output_type": "display_data"
    }
   ],
   "source": [
    "from matplotlib.ticker import MaxNLocator\n",
    "ncomps = 5\n",
    "svd = TruncatedSVD(n_components=ncomps)\n",
    "svd_fit = svd.fit(rescaledDataset)\n",
    "plt_data = pd.DataFrame(svd_fit.explained_variance_ratio_.cumsum()*100)\n",
    "plt_data.index = np.arange(1, len(plt_data) + 1)\n",
    "Y_pred = svd.fit_transform(rescaledDataset)\n",
    "ax = plt_data.plot(kind='line', figsize=(10, 4))\n",
    "ax.xaxis.set_major_locator(MaxNLocator(integer=True))\n",
    "ax.set_xlabel(\"Eigenvalues\")\n",
    "ax.set_ylabel(\"Percentage Explained\")\n",
    "ax.legend(\"\")\n",
    "print('Variance preserved by first 5 components == {:.2%}'.format(svd_fit.explained_variance_ratio_.cumsum()[-1]))"
   ]
  },
  {
   "cell_type": "markdown",
   "metadata": {},
   "source": [
    "We can preserve 92.75% variance by using just 5 components rather than the full 25+ original features."
   ]
  },
  {
   "cell_type": "code",
   "execution_count": 32,
   "metadata": {},
   "outputs": [
    {
     "name": "stdout",
     "output_type": "stream",
     "text": [
      "(8000, 5)\n"
     ]
    },
    {
     "data": {
      "text/html": [
       "<div>\n",
       "<style scoped>\n",
       "    .dataframe tbody tr th:only-of-type {\n",
       "        vertical-align: middle;\n",
       "    }\n",
       "\n",
       "    .dataframe tbody tr th {\n",
       "        vertical-align: top;\n",
       "    }\n",
       "\n",
       "    .dataframe thead th {\n",
       "        text-align: right;\n",
       "    }\n",
       "</style>\n",
       "<table border=\"1\" class=\"dataframe\">\n",
       "  <thead>\n",
       "    <tr style=\"text-align: right;\">\n",
       "      <th></th>\n",
       "      <th>c0</th>\n",
       "      <th>c1</th>\n",
       "      <th>c2</th>\n",
       "      <th>c3</th>\n",
       "      <th>c4</th>\n",
       "    </tr>\n",
       "  </thead>\n",
       "  <tbody>\n",
       "    <tr>\n",
       "      <th>476354</th>\n",
       "      <td>-2.675</td>\n",
       "      <td>1.342</td>\n",
       "      <td>-1.344</td>\n",
       "      <td>0.339</td>\n",
       "      <td>-0.006</td>\n",
       "    </tr>\n",
       "    <tr>\n",
       "      <th>484333</th>\n",
       "      <td>-2.332</td>\n",
       "      <td>1.303</td>\n",
       "      <td>0.072</td>\n",
       "      <td>0.233</td>\n",
       "      <td>-0.648</td>\n",
       "    </tr>\n",
       "    <tr>\n",
       "      <th>476100</th>\n",
       "      <td>-0.276</td>\n",
       "      <td>1.362</td>\n",
       "      <td>0.390</td>\n",
       "      <td>0.266</td>\n",
       "      <td>-1.067</td>\n",
       "    </tr>\n",
       "    <tr>\n",
       "      <th>478974</th>\n",
       "      <td>-1.541</td>\n",
       "      <td>2.815</td>\n",
       "      <td>-0.924</td>\n",
       "      <td>0.189</td>\n",
       "      <td>-0.556</td>\n",
       "    </tr>\n",
       "    <tr>\n",
       "      <th>491284</th>\n",
       "      <td>-3.786</td>\n",
       "      <td>-2.950</td>\n",
       "      <td>-0.024</td>\n",
       "      <td>1.770</td>\n",
       "      <td>1.226</td>\n",
       "    </tr>\n",
       "  </tbody>\n",
       "</table>\n",
       "</div>"
      ],
      "text/plain": [
       "           c0     c1     c2     c3     c4\n",
       "476354 -2.675  1.342 -1.344  0.339 -0.006\n",
       "484333 -2.332  1.303  0.072  0.233 -0.648\n",
       "476100 -0.276  1.362  0.390  0.266 -1.067\n",
       "478974 -1.541  2.815 -0.924  0.189 -0.556\n",
       "491284 -3.786 -2.950 -0.024  1.770  1.226"
      ]
     },
     "execution_count": 32,
     "metadata": {},
     "output_type": "execute_result"
    }
   ],
   "source": [
    "dfsvd = pd.DataFrame(Y_pred, columns=['c{}'.format(c) for c in range(ncomps)], index=rescaledDataset.index)\n",
    "print(dfsvd.shape)\n",
    "dfsvd.head()"
   ]
  },
  {
   "cell_type": "markdown",
   "metadata": {},
   "source": [
    "<a id='4.4'></a>\n",
    "## 5.4. Compare Models-with and without dimensionality Reduction"
   ]
  },
  {
   "cell_type": "code",
   "execution_count": 54,
   "metadata": {},
   "outputs": [],
   "source": [
    "# test options for classification\n",
    "scoring = 'accuracy'\n",
    "seed = 7\n",
    "kfold = 10"
   ]
  },
  {
   "cell_type": "markdown",
   "metadata": {},
   "source": [
    "<a id='4.3.1'></a>\n",
    "### 5.3.1. Models"
   ]
  },
  {
   "cell_type": "code",
   "execution_count": 55,
   "metadata": {
    "_cell_guid": "772802f7-f4e4-84ee-6377-6464ab2e5da4"
   },
   "outputs": [],
   "source": [
    "import time\n",
    "start_time = time.time()"
   ]
  },
  {
   "cell_type": "code",
   "execution_count": 56,
   "metadata": {
    "_cell_guid": "772802f7-f4e4-84ee-6377-6464ab2e5da4"
   },
   "outputs": [
    {
     "name": "stdout",
     "output_type": "stream",
     "text": [
      "Time Without Dimensionality Reduction--- 8.37734055519104 seconds ---\n"
     ]
    }
   ],
   "source": [
    "# spot check the algorithms\n",
    "models =  RandomForestClassifier(n_jobs=-1)\n",
    "cv_results_XTrain= cross_val_score(models, X_train, Y_train, cv=kfold, scoring=scoring)\n",
    "print(\"Time Without Dimensionality Reduction--- %s seconds ---\" % (time.time() - start_time))"
   ]
  },
  {
   "cell_type": "code",
   "execution_count": 57,
   "metadata": {
    "_cell_guid": "772802f7-f4e4-84ee-6377-6464ab2e5da4"
   },
   "outputs": [
    {
     "name": "stdout",
     "output_type": "stream",
     "text": [
      "Time with Dimensionality Reduction--- 5.2287681102752686 seconds ---\n"
     ]
    }
   ],
   "source": [
    "start_time = time.time()\n",
    "X_SVD= dfsvd[svdcols].iloc[:,:5]\n",
    "cv_results_SVD = cross_val_score(models, X_SVD, Y_train, cv=kfold, scoring=scoring)\n",
    "print(\"Time with Dimensionality Reduction--- %s seconds ---\" % (time.time() - start_time))"
   ]
  },
  {
   "cell_type": "code",
   "execution_count": 58,
   "metadata": {
    "_cell_guid": "772802f7-f4e4-84ee-6377-6464ab2e5da4"
   },
   "outputs": [
    {
     "name": "stdout",
     "output_type": "stream",
     "text": [
      "Result without dimensionality Reduction: 0.957250 (0.006418)\n",
      "Result with dimensionality Reduction: 0.929375 (0.008163)\n"
     ]
    }
   ],
   "source": [
    "print(\"Result without dimensionality Reduction: %f (%f)\" % (cv_results_XTrain.mean(), cv_results_XTrain.std()))\n",
    "print(\"Result with dimensionality Reduction: %f (%f)\" % (cv_results_SVD.mean(), cv_results_SVD.std()))"
   ]
  },
  {
   "cell_type": "markdown",
   "metadata": {},
   "source": [
    "Looking at the model results, we do not deviate that much from the accuracy. However, there is a ~2 times improve‐\n",
    "ment in the time taken, which is significant."
   ]
  },
  {
   "cell_type": "markdown",
   "metadata": {},
   "source": [
    "__Conclusion__:\n",
    "\n",
    "\n",
    "With dimensionality reduction, we achieved almost the same accuracy with four times improvement in the time. In\n",
    "trading strategy development, when the datasets are huge and the number of features\n",
    "is big such improvement in time can lead to a significant improvement in the entire\n",
    "process. \n",
    "\n",
    "We demonstrated that both SVD and t-SNE provide quite interesting way of visualizing the trading signal data, and provide a way to distinguished long and short signals\n",
    "of a trading strategy with reduced number of features.\n"
   ]
  }
 ],
 "metadata": {
  "_change_revision": 206,
  "_is_fork": false,
  "kernelspec": {
   "display_name": "Python 3 (ipykernel)",
   "language": "python",
   "name": "python3"
  },
  "language_info": {
   "codemirror_mode": {
    "name": "ipython",
    "version": 3
   },
   "file_extension": ".py",
   "mimetype": "text/x-python",
   "name": "python",
   "nbconvert_exporter": "python",
   "pygments_lexer": "ipython3",
   "version": "3.7.3"
  }
 },
 "nbformat": 4,
 "nbformat_minor": 1
}
